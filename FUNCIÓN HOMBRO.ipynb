{
 "cells": [
  {
   "cell_type": "code",
   "execution_count": 5,
   "metadata": {
    "collapsed": false
   },
   "outputs": [
    {
     "name": "stdout",
     "output_type": "stream",
     "text": [
      "[0 0 1 1 1]\n"
     ]
    },
    {
     "data": {
      "text/plain": [
       "[<matplotlib.lines.Line2D at 0x782bb38>]"
      ]
     },
     "execution_count": 5,
     "metadata": {},
     "output_type": "execute_result"
    },
    {
     "data": {
      "image/png": "[encoded data removed]",
      "text/plain": [
       "<matplotlib.figure.Figure at 0x6c12390>"
      ]
     },
     "metadata": {},
     "output_type": "display_data"
    }
   ],
   "source": [
    "%matplotlib inline\n",
    "import numpy as np\n",
    "import matplotlib.pyplot as plt\n",
    "\n",
    "x=[30,30,70,70,100]\n",
    "a=20\n",
    "b=70\n",
    "\n",
    "\n",
    "plt.xlabel('EJE X')\n",
    "plt.title('FUNCION HOMBRO')\n",
    "\n",
    "plt.grid()\n",
    "\n",
    "def f(x,a,b):\n",
    "\n",
    "    if (x<a):\n",
    "        ans=0\n",
    "    if (x>=a)&(x<b):\n",
    "         ans=(x-a)/(b-a)\n",
    "    if (x>=b):\n",
    "        ans=1\n",
    "    return ans\n",
    "\n",
    "\n",
    "fun_vect = np.vectorize(f)\n",
    "func=fun_vect(x,a,b)\n",
    "print func\n",
    "plt.axis([x[0], x[-1], 0, 2])\n",
    "plt.plot(x,fun_vect(x,a,b))"
   ]
  },
  {
   "cell_type": "code",
   "execution_count": null,
   "metadata": {
    "collapsed": true
   },
   "outputs": [],
   "source": []
  }
 ],
 "metadata": {
  "kernelspec": {
   "display_name": "Python [Root]",
   "language": "python",
   "name": "Python [Root]"
  },
  "language_info": {
   "codemirror_mode": {
    "name": "ipython",
    "version": 2
   },
   "file_extension": ".py",
   "mimetype": "text/x-python",
   "name": "python",
   "nbconvert_exporter": "python",
   "pygments_lexer": "ipython2",
   "version": "2.7.12"
  }
 },
 "nbformat": 4,
 "nbformat_minor": 0
}
