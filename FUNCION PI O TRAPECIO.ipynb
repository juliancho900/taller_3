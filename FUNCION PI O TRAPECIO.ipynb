{
 "cells": [
  {
   "cell_type": "code",
   "execution_count": 4,
   "metadata": {
    "collapsed": false
   },
   "outputs": [
    {
     "name": "stdout",
     "output_type": "stream",
     "text": [
      "[0 0 0 1 1 0 0 0]\n"
     ]
    },
    {
     "data": {
      "text/plain": [
       "[<matplotlib.lines.Line2D at 0x78934e0>]"
      ]
     },
     "execution_count": 4,
     "metadata": {},
     "output_type": "execute_result"
    },
    {
     "data": {
      "image/png": "[encoded data removed]",
      "text/plain": [
       "<matplotlib.figure.Figure at 0x780a048>"
      ]
     },
     "metadata": {},
     "output_type": "display_data"
    }
   ],
   "source": [
    "%matplotlib inline\n",
    "import numpy as np\n",
    "import matplotlib.pyplot as plt\n",
    "\n",
    "x=[0,15,15,50,150,180,180,200]\n",
    "a=10\n",
    "b=50\n",
    "c=150\n",
    "d=180\n",
    "\n",
    "plt.xlabel('EJE X')\n",
    "plt.title('FUNCION PI O TRAPECIO')\n",
    "\n",
    "plt.grid()\n",
    "\n",
    "def f(x,a,b,c,d):\n",
    "    if ((x<a) | (x>=c)):\n",
    "        ans=0\n",
    "    if (x>=a)&(x<b):\n",
    "         ans=(x-a)/(b-a)\n",
    "    if (x>=b)&(x<d):\n",
    "        ans=1\n",
    "    if (x>=d)&(x<c):\n",
    "        ans=1-(x-d)/(c-d)\n",
    "    return ans\n",
    "\n",
    "\n",
    "fun_vect = np.vectorize(f)\n",
    "func=fun_vect(x,a,b,c,d)\n",
    "print func\n",
    "plt.axis([x[0], x[-1], 0, 2])\n",
    "plt.plot(x,fun_vect(x,a,b,c,d))"
   ]
  },
  {
   "cell_type": "code",
   "execution_count": null,
   "metadata": {
    "collapsed": true
   },
   "outputs": [],
   "source": []
  }
 ],
 "metadata": {
  "kernelspec": {
   "display_name": "Python [Root]",
   "language": "python",
   "name": "Python [Root]"
  },
  "language_info": {
   "codemirror_mode": {
    "name": "ipython",
    "version": 2
   },
   "file_extension": ".py",
   "mimetype": "text/x-python",
   "name": "python",
   "nbconvert_exporter": "python",
   "pygments_lexer": "ipython2",
   "version": "2.7.12"
  }
 },
 "nbformat": 4,
 "nbformat_minor": 0
}
